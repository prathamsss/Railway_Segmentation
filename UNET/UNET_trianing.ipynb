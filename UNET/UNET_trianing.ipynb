{
 "cells": [
  {
   "cell_type": "code",
   "execution_count": 1,
   "id": "70bf36f2-2505-4027-86bd-526c528bbc90",
   "metadata": {},
   "outputs": [
    {
     "name": "stdout",
     "output_type": "stream",
     "text": [
      "/home/ubuntu/OTIV_ML_Challenge\n"
     ]
    }
   ],
   "source": [
    "cd /home/ubuntu/OTIV_ML_Challenge"
   ]
  },
  {
   "cell_type": "code",
   "execution_count": 2,
   "id": "accf2a8d-98ca-4531-894b-358946b1feae",
   "metadata": {},
   "outputs": [
    {
     "name": "stdout",
     "output_type": "stream",
     "text": [
      "/bin/bash: switchml: line 1: syntax error: unexpected end of file\n",
      "/bin/bash: error importing function definition for `switchml'\n",
      "/bin/bash: _moduleraw: line 1: syntax error: unexpected end of file\n",
      "/bin/bash: error importing function definition for `_moduleraw'\n",
      "Fri Oct  8 12:47:23 2021       \n",
      "+-----------------------------------------------------------------------------+\n",
      "| NVIDIA-SMI 450.142.00   Driver Version: 450.142.00   CUDA Version: 11.0     |\n",
      "|-------------------------------+----------------------+----------------------+\n",
      "| GPU  Name        Persistence-M| Bus-Id        Disp.A | Volatile Uncorr. ECC |\n",
      "| Fan  Temp  Perf  Pwr:Usage/Cap|         Memory-Usage | GPU-Util  Compute M. |\n",
      "|                               |                      |               MIG M. |\n",
      "|===============================+======================+======================|\n",
      "|   0  Tesla T4            On   | 00000000:00:1E.0 Off |                    0 |\n",
      "| N/A   77C    P0    32W /  70W |      0MiB / 15109MiB |      0%      Default |\n",
      "|                               |                      |                  N/A |\n",
      "+-------------------------------+----------------------+----------------------+\n",
      "                                                                               \n",
      "+-----------------------------------------------------------------------------+\n",
      "| Processes:                                                                  |\n",
      "|  GPU   GI   CI        PID   Type   Process name                  GPU Memory |\n",
      "|        ID   ID                                                   Usage      |\n",
      "|=============================================================================|\n",
      "|  No running processes found                                                 |\n",
      "+-----------------------------------------------------------------------------+\n",
      "/bin/bash: switchml: line 1: syntax error: unexpected end of file\n",
      "/bin/bash: error importing function definition for `switchml'\n",
      "/bin/bash: _moduleraw: line 1: syntax error: unexpected end of file\n",
      "/bin/bash: error importing function definition for `_moduleraw'\n",
      "/home/ubuntu/OTIV_ML_Challenge\n"
     ]
    }
   ],
   "source": [
    "!nvidia-smi\n",
    "# Check size of cuda, make it free by running:\n",
    "# !sudo kill -16223 PID\n",
    "!pwd"
   ]
  },
  {
   "cell_type": "code",
   "execution_count": 4,
   "id": "852a825e-3345-4dd9-8d6a-3c2660bdfc4c",
   "metadata": {},
   "outputs": [
    {
     "name": "stdout",
     "output_type": "stream",
     "text": [
      "Dataset Size:\n",
      "Train: 1397 - Valid: 501\n",
      "\n"
     ]
    }
   ],
   "source": [
    "import os\n",
    "import time\n",
    "from glob import glob\n",
    "\n",
    "import torch\n",
    "from torch.utils.data import DataLoader\n",
    "import torch.nn as nn\n",
    "\n",
    "from data import RailData\n",
    "from model import build_unet\n",
    "from loss import DiceLoss, DiceBCELoss\n",
    "from Helper import seeding, create_dir, epoch_time\n",
    "import torch\n",
    "import torchvision\n",
    "import torchvision.transforms as transforms\n",
    "\n",
    "import torch\n",
    "import numpy as np\n",
    "import pandas as pd\n",
    "from PIL import Image\n",
    "from torchvision import transforms\n",
    "import cv2,  subprocess\n",
    "import math, base64, io, os, time, cv2\n",
    "from torch.utils.data import Dataset, DataLoader, ConcatDataset\n",
    "from albumentations import HorizontalFlip, Rotate, Rotate, RandomBrightness, RandomBrightnessContrast\n",
    "import albumentations as A\n",
    "from albumentations.pytorch import ToTensorV2\n",
    "\n",
    "\n",
    "\"\"\" Seeding \"\"\"\n",
    "seeding(42)\n",
    "\n",
    "path = \"Data\"\n",
    "\n",
    "\"\"\" Directories \"\"\"\n",
    "create_dir(\"files\")\n",
    "\n",
    "\"\"\" Load dataset \"\"\"\n",
    "train_x = sorted(glob(os.path.join(path,\"Train\",\"Images\",\"*.jpg\")))\n",
    "train_y = sorted(glob(os.path.join(path,\"Train\",\"Masks\",\"*.png\")))\n",
    "\n",
    "valid_x = sorted(glob(os.path.join(path,\"Valid\",\"Images\",\"*.jpg\")))\n",
    "\n",
    "valid_y = sorted(glob(os.path.join(path,\"Valid\",\"Masks\",\"*.png\")))\n",
    "\n",
    "\n",
    "data_str = f\"Dataset Size:\\nTrain: {len(train_x)} - Valid: {len(valid_x)}\\n\"\n",
    "print(data_str)\n",
    "\n",
    "\n",
    "\"\"\" Hyperparameters \"\"\"\n",
    "\n",
    "H = 512\n",
    "W = 512\n",
    "size = (H, W)\n",
    "\n",
    "batch_size = 2\n",
    "num_epochs = 10\n",
    "lr = 0.0005\n",
    "\n",
    "checkpoint_path = \"Unet/files/checkpoint.pth\"\n",
    "\n",
    "\n",
    "\"\"\"Augmentation \"\"\"\n",
    "\n",
    "costoum_transform = A.Compose(\n",
    "    [\n",
    "        A.Resize(H,W),\n",
    "#         A.HorizontalFlip(p=0.3),\n",
    "#         A.Rotate(limit=15, p=0.8,always_apply=False),\n",
    "# #         A.RandomBrightnessContrast(p=0.5,always_apply=False),\n",
    "#         A.RandomSnow(brightness_coeff=1.5, always_apply=False, p=0.5),\n",
    "#         A.RandomRain(p=0.5, always_apply=False),\n",
    "#         A.RandomSunFlare(p=0.2, always_apply=False),\n",
    "        ToTensorV2(),\n",
    "    ]\n",
    ")\n",
    "\n",
    "\"\"\" Dataset and loader \"\"\"\n",
    "\n",
    "size = (H,W)\n",
    "train_dataset = RailData(train_x, train_y, size)\n",
    "valid_dataset = RailData(valid_x, valid_y,size)\n",
    "\n",
    "\n",
    "train_loader = DataLoader(\n",
    "    dataset=train_dataset,\n",
    "    batch_size=batch_size,\n",
    "    num_workers = 1\n",
    ")\n",
    "\n",
    "valid_loader = DataLoader(\n",
    "    dataset=valid_dataset,\n",
    "    batch_size=batch_size,\n",
    "    shuffle=False,\n",
    "    num_workers = 1\n",
    "\n",
    ")\n",
    "\n",
    " "
   ]
  },
  {
   "cell_type": "code",
   "execution_count": 5,
   "id": "9053ca49-42ac-4f2d-8d76-14607130bebe",
   "metadata": {},
   "outputs": [],
   "source": [
    "def train(model, loader, optimizer, loss_fn, device):\n",
    "    epoch_loss = 0.0\n",
    "\n",
    "    model.train()\n",
    "    for x, y in loader:\n",
    "        x = x.to(device, dtype=torch.float32)\n",
    "        y = y.to(device, dtype=torch.float32)\n",
    "\n",
    "        optimizer.zero_grad()\n",
    "        y_pred = model(x)\n",
    "        loss = loss_fn(y_pred, y)\n",
    "        loss.backward()\n",
    "        optimizer.step()\n",
    "        epoch_loss += loss.item()\n",
    "\n",
    "    epoch_loss = epoch_loss/len(loader)\n",
    "    return epoch_loss\n",
    "\n",
    "def evaluate(model, loader, loss_fn, device):\n",
    "    epoch_loss = 0.0\n",
    "\n",
    "    model.eval()\n",
    "    with torch.no_grad():\n",
    "        for x, y in loader:\n",
    "            x = x.to(device, dtype=torch.float32)\n",
    "            y = y.to(device, dtype=torch.float32)\n",
    "\n",
    "            y_pred = model(x)\n",
    "            loss = loss_fn(y_pred, y)\n",
    "            epoch_loss += loss.item()\n",
    "\n",
    "        epoch_loss = epoch_loss/len(loader)\n",
    "    return epoch_loss\n",
    "\n"
   ]
  },
  {
   "cell_type": "code",
   "execution_count": 6,
   "id": "e37bfd34-a358-41b6-bae9-055d5bbc5a92",
   "metadata": {},
   "outputs": [
    {
     "name": "stdout",
     "output_type": "stream",
     "text": [
      "cuda\n"
     ]
    }
   ],
   "source": [
    "device = torch.device('cuda')  \n",
    "print(device)\n",
    "model = build_unet()\n",
    "model = model.to(device)\n",
    "\n",
    "optimizer = torch.optim.Adam(model.parameters(), lr=lr)\n",
    "scheduler = torch.optim.lr_scheduler.ReduceLROnPlateau(optimizer, 'min', patience=5, verbose=True)\n",
    "loss_fn =   DiceBCELoss()\n",
    "\n",
    "\"\"\" Training the model \"\"\"\n",
    "best_valid_loss = float(\"inf\")\n",
    "\n",
    "train_loss_data =[]\n",
    "valid_loss_data = []\n",
    "\n",
    "def trainer(checkpoint_path):\n",
    "    \n",
    "    best_valid_loss = float(\"inf\")\n",
    "    for epoch in range(num_epochs):\n",
    "        start_time = time.time()\n",
    "        \n",
    "\n",
    "        train_loss = train(model, train_loader, optimizer, loss_fn, device)\n",
    "        print(\"Train loss: \",train_loss)\n",
    "        valid_loss = evaluate(model, valid_loader, loss_fn, device)\n",
    "        print(\"Valid loss: \",train_loss)\n",
    "\n",
    "\n",
    "        \"\"\" Saving the model \"\"\"\n",
    "        if valid_loss < best_valid_loss:\n",
    "            data_str = f\"Valid loss improved from {best_valid_loss:2.4f} to {valid_loss:2.4f}. Saving checkpoint: {checkpoint_path}\"\n",
    "            print(data_str)\n",
    "\n",
    "            best_valid_loss = valid_loss\n",
    "            torch.save(model.state_dict(), checkpoint_path)\n",
    "\n",
    "        end_time = time.time()\n",
    "        epoch_mins, epoch_secs = epoch_time(start_time, end_time)\n",
    "        \n",
    "        data_str = f'Epoch: {epoch+1:02} | Epoch Time: {epoch_mins}m {epoch_secs}s\\n'\n",
    "        data_str += f'\\tTrain Loss: {train_loss:.3f}\\n'\n",
    "        train_loss_data.append(train_loss)\n",
    "       \n",
    "        data_str += f'\\t Val. Loss: {valid_loss:.3f}\\n'\n",
    "        valid_loss_data.append(valid_loss)\n",
    "        \n",
    "        print('Epoch {}/{}'.format(epoch, num_epochs - 1))\n",
    "        print('-' * 10)\n",
    "        print(data_str)"
   ]
  },
  {
   "cell_type": "code",
   "execution_count": 7,
   "id": "09323abd-fb49-4add-8763-cf61865d132d",
   "metadata": {},
   "outputs": [
    {
     "name": "stdout",
     "output_type": "stream",
     "text": [
      "Train loss:  0.5406095790750053\n",
      "Valid loss:  0.5406095790750053\n",
      "Valid loss improved from inf to 0.2907. Saving checkpoint: Unet/files/checkpoint.pth\n",
      "Epoch 0/9\n",
      "----------\n",
      "Epoch: 01 | Epoch Time: 10m 37s\n",
      "\tTrain Loss: 0.541\n",
      "\t Val. Loss: 0.291\n",
      "\n",
      "Train loss:  0.2657595434397971\n",
      "Valid loss:  0.2657595434397971\n",
      "Valid loss improved from 0.2907 to 0.2651. Saving checkpoint: Unet/files/checkpoint.pth\n",
      "Epoch 1/9\n",
      "----------\n",
      "Epoch: 02 | Epoch Time: 10m 38s\n",
      "\tTrain Loss: 0.266\n",
      "\t Val. Loss: 0.265\n",
      "\n",
      "Train loss:  0.2304990648669064\n",
      "Valid loss:  0.2304990648669064\n",
      "Valid loss improved from 0.2651 to 0.2411. Saving checkpoint: Unet/files/checkpoint.pth\n",
      "Epoch 2/9\n",
      "----------\n",
      "Epoch: 03 | Epoch Time: 10m 38s\n",
      "\tTrain Loss: 0.230\n",
      "\t Val. Loss: 0.241\n",
      "\n",
      "Train loss:  0.21029699496519838\n",
      "Valid loss:  0.21029699496519838\n",
      "Epoch 3/9\n",
      "----------\n",
      "Epoch: 04 | Epoch Time: 10m 38s\n",
      "\tTrain Loss: 0.210\n",
      "\t Val. Loss: 0.252\n",
      "\n",
      "Train loss:  0.19237160093773248\n",
      "Valid loss:  0.19237160093773248\n",
      "Epoch 4/9\n",
      "----------\n",
      "Epoch: 05 | Epoch Time: 10m 38s\n",
      "\tTrain Loss: 0.192\n",
      "\t Val. Loss: 0.273\n",
      "\n",
      "Train loss:  0.18070548423465996\n",
      "Valid loss:  0.18070548423465996\n",
      "Valid loss improved from 0.2411 to 0.2203. Saving checkpoint: Unet/files/checkpoint.pth\n",
      "Epoch 5/9\n",
      "----------\n",
      "Epoch: 06 | Epoch Time: 10m 38s\n",
      "\tTrain Loss: 0.181\n",
      "\t Val. Loss: 0.220\n",
      "\n",
      "Train loss:  0.17358196964980407\n",
      "Valid loss:  0.17358196964980407\n",
      "Valid loss improved from 0.2203 to 0.2064. Saving checkpoint: Unet/files/checkpoint.pth\n",
      "Epoch 6/9\n",
      "----------\n",
      "Epoch: 07 | Epoch Time: 10m 38s\n",
      "\tTrain Loss: 0.174\n",
      "\t Val. Loss: 0.206\n",
      "\n",
      "Train loss:  0.16044249714822514\n",
      "Valid loss:  0.16044249714822514\n",
      "Valid loss improved from 0.2064 to 0.1976. Saving checkpoint: Unet/files/checkpoint.pth\n",
      "Epoch 7/9\n",
      "----------\n",
      "Epoch: 08 | Epoch Time: 10m 38s\n",
      "\tTrain Loss: 0.160\n",
      "\t Val. Loss: 0.198\n",
      "\n",
      "Train loss:  0.1600648463118784\n",
      "Valid loss:  0.1600648463118784\n",
      "Epoch 8/9\n",
      "----------\n",
      "Epoch: 09 | Epoch Time: 10m 38s\n",
      "\tTrain Loss: 0.160\n",
      "\t Val. Loss: 0.206\n",
      "\n",
      "Train loss:  0.14958932476174167\n",
      "Valid loss:  0.14958932476174167\n",
      "Epoch 9/9\n",
      "----------\n",
      "Epoch: 10 | Epoch Time: 10m 38s\n",
      "\tTrain Loss: 0.150\n",
      "\t Val. Loss: 0.200\n",
      "\n"
     ]
    }
   ],
   "source": [
    "trainer(checkpoint_path = \"Unet/files/checkpoint.pth\")"
   ]
  },
  {
   "cell_type": "code",
   "execution_count": 8,
   "id": "9182c2e9-50d2-4a0d-bbba-137c3c1b636c",
   "metadata": {},
   "outputs": [
    {
     "name": "stdout",
     "output_type": "stream",
     "text": [
      "Done!\n"
     ]
    }
   ],
   "source": [
    "print(\"Done!\")"
   ]
  },
  {
   "cell_type": "code",
   "execution_count": 10,
   "id": "b085a4f6-cd4b-4fcf-a802-ac4091dd153e",
   "metadata": {},
   "outputs": [
    {
     "data": {
      "text/plain": [
       "[<matplotlib.lines.Line2D at 0x7faac4d0d210>]"
      ]
     },
     "execution_count": 10,
     "metadata": {},
     "output_type": "execute_result"
    },
    {
     "data": {
      "image/png": "[encoded data removed]",
      "text/plain": [
       "<Figure size 432x288 with 1 Axes>"
      ]
     },
     "metadata": {
      "needs_background": "light"
     },
     "output_type": "display_data"
    }
   ],
   "source": [
    "import matplotlib.pyplot as plt\n",
    "\n",
    "plt.title('LOSS')\n",
    "\n",
    "plt.plot(train_loss_data,color='Orange')\n",
    "plt.plot(valid_loss_data,color='blue')"
   ]
  },
  {
   "cell_type": "code",
   "execution_count": 12,
   "id": "ad3fc8fd-87e6-4410-b391-44457681c510",
   "metadata": {},
   "outputs": [
    {
     "name": "stderr",
     "output_type": "stream",
     "text": [
      "  0%|          | 0/2 [00:00<?, ?it/s]"
     ]
    },
    {
     "name": "stdout",
     "output_type": "stream",
     "text": [
      "(512, 512, 3)\n"
     ]
    },
    {
     "name": "stderr",
     "output_type": "stream",
     "text": [
      " 50%|█████     | 1/2 [00:00<00:00,  1.98it/s]"
     ]
    },
    {
     "name": "stdout",
     "output_type": "stream",
     "text": [
      "(512, 512, 3)\n"
     ]
    },
    {
     "name": "stderr",
     "output_type": "stream",
     "text": [
      "100%|██████████| 2/2 [00:00<00:00,  2.16it/s]"
     ]
    },
    {
     "name": "stdout",
     "output_type": "stream",
     "text": [
      "Jaccard: 0.9784 - F1: 0.9891 - Recall: 0.9875 - Precision: 0.9907 - Acc: 0.9992\n",
      "FPS:  70.61950061455053\n"
     ]
    },
    {
     "name": "stderr",
     "output_type": "stream",
     "text": [
      "\n"
     ]
    }
   ],
   "source": [
    "import os, time\n",
    "from operator import add\n",
    "import numpy as np\n",
    "from glob import glob\n",
    "import cv2\n",
    "from tqdm import tqdm\n",
    "import imageio\n",
    "import torch\n",
    "from sklearn.metrics import accuracy_score, f1_score, jaccard_score, precision_score, recall_score\n",
    "\n",
    "from model import build_unet\n",
    "from Helper import create_dir, seeding\n",
    "\n",
    "def calculate_metrics(y_true, y_pred):\n",
    "    \"\"\" Ground truth \"\"\"\n",
    "    y_true = y_true.cpu().numpy()\n",
    "    y_true = y_true > 0.5\n",
    "    y_true = y_true.astype(np.uint8)\n",
    "    y_true = y_true.reshape(-1)\n",
    "\n",
    "    \"\"\" Prediction \"\"\"\n",
    "    y_pred = y_pred.cpu().numpy()\n",
    "    y_pred = y_pred > 0.5\n",
    "    y_pred = y_pred.astype(np.uint8)\n",
    "    y_pred = y_pred.reshape(-1)\n",
    "\n",
    "    score_jaccard = jaccard_score(y_true, y_pred)\n",
    "    score_f1 = f1_score(y_true, y_pred)\n",
    "    score_recall = recall_score(y_true, y_pred)\n",
    "    score_precision = precision_score(y_true, y_pred)\n",
    "    score_acc = accuracy_score(y_true, y_pred)\n",
    "\n",
    "    return [score_jaccard, score_f1, score_recall, score_precision, score_acc]\n",
    "\n",
    "def mask_parse(mask):\n",
    "    mask = np.expand_dims(mask, axis=-1)    ## (512, 512, 1)\n",
    "    mask = np.concatenate([mask, mask, mask], axis=-1)  ## (512, 512, 3)\n",
    "    return mask\n",
    "\n",
    "if __name__ == \"__main__\":\n",
    "    \"\"\" Seeding \"\"\"\n",
    "    seeding(42)\n",
    "\n",
    "    \"\"\" Folders \"\"\"\n",
    "    create_dir(\"results\")\n",
    "\n",
    "    \"\"\" Load dataset \"\"\"\n",
    "    test_x = sorted(glob(\"Data/Test_Real_Time/Images/*\"))[:2]\n",
    "    test_y = sorted(glob(\"Data/Test_Real_Time/Masks/*\"))[:2]\n",
    "   \n",
    "\n",
    "    \"\"\" Hyperparameters \"\"\"\n",
    "    H = 512\n",
    "    W = 512\n",
    "    size = (W, H)\n",
    "    checkpoint_path = \"Unet/files/checkpoint.pth\"\n",
    "\n",
    "    \"\"\" Load the checkpoint \"\"\"\n",
    "    device = torch.device('cuda' if torch.cuda.is_available() else 'cpu')\n",
    "\n",
    "    model = build_unet()\n",
    "    model = model.to(device)\n",
    "    model.load_state_dict(torch.load(checkpoint_path, map_location=device))\n",
    "    model.eval()\n",
    "\n",
    "    metrics_score = [0.0, 0.0, 0.0, 0.0, 0.0]\n",
    "    time_taken = []\n",
    "  \n",
    "    for i, (x, y) in tqdm(enumerate(zip(test_x, test_y)), total=len(test_x)):\n",
    "        \"\"\" Extract the name \"\"\"\n",
    "        name = x.split(\"/\")[-1].split(\".\")[0]\n",
    "\n",
    "        \"\"\" Reading image \"\"\"\n",
    "        image = cv2.imread(x, cv2.IMREAD_COLOR) ## (512, 512, 3)\n",
    "        image = cv2.resize(image, size)\n",
    "        print(image.shape)\n",
    "        x = np.transpose(image, (2, 0, 1))      ## (3, 512, 512)\n",
    "        x = x/255.0\n",
    "        x = np.expand_dims(x, axis=0)           ## (1, 3, 512, 512)\n",
    "        x = x.astype(np.float32)\n",
    "        x = torch.from_numpy(x)\n",
    "        x = x.to(device)\n",
    "\n",
    "        \"\"\" Reading mask \"\"\"\n",
    "        mask = cv2.imread(y, cv2.IMREAD_GRAYSCALE)  ## (512, 512)\n",
    "        mask = cv2.resize(mask, size)\n",
    "        y = np.expand_dims(mask, axis=0)            ## (1, 512, 512)\n",
    "        y = y/255.0\n",
    "        y = np.expand_dims(y, axis=0)               ## (1, 1, 512, 512)\n",
    "        y = y.astype(np.float32)\n",
    "        y = torch.from_numpy(y)\n",
    "        y = y.to(device)\n",
    "\n",
    "        with torch.no_grad():\n",
    "            \"\"\" Prediction and Calculating FPS \"\"\"\n",
    "            start_time = time.time()\n",
    "            pred_y = model(x)\n",
    "            pred_y = torch.sigmoid(pred_y)\n",
    "           \n",
    "            total_time = time.time() - start_time\n",
    "            time_taken.append(total_time)\n",
    "\n",
    "\n",
    "            score = calculate_metrics(y, pred_y)\n",
    "            metrics_score = list(map(add, metrics_score, score))\n",
    "            pred_y = pred_y[0].cpu().numpy()        ## (1, 512, 512)\n",
    "          \n",
    "            pred_y = np.squeeze(pred_y, axis=0)     ## (512, 512)\n",
    "            pred_y = pred_y > 0.5\n",
    "            pred_y = np.array(pred_y, dtype=np.uint8)\n",
    "\n",
    "        \"\"\" Saving masks \"\"\"\n",
    "        ori_mask = mask_parse(mask)\n",
    "        pred_y = mask_parse(pred_y)\n",
    "        line = np.ones((size[1], 10, 3)) * 128\n",
    "\n",
    "        cat_images = np.concatenate(\n",
    "            [image, line, ori_mask, line, pred_y * 255], axis=1\n",
    "        )\n",
    "        cv2.imwrite(f\"results/{name}.png\", cat_images)\n",
    "        \n",
    "         \n",
    "\n",
    "    jaccard = metrics_score[0]/len(test_x)\n",
    "    f1 = metrics_score[1]/len(test_x)\n",
    "    recall = metrics_score[2]/len(test_x)\n",
    "    precision = metrics_score[3]/len(test_x)\n",
    "    acc = metrics_score[4]/len(test_x)\n",
    "    print(f\"Jaccard: {jaccard:1.4f} - F1: {f1:1.4f} - Recall: {recall:1.4f} - Precision: {precision:1.4f} - Acc: {acc:1.4f}\")\n",
    "\n",
    "    fps = 1/np.mean(time_taken)\n",
    "    print(\"FPS: \", fps)"
   ]
  },
  {
   "cell_type": "code",
   "execution_count": null,
   "id": "2e8d45c2-7523-46e5-8dc3-11db75196c44",
   "metadata": {},
   "outputs": [],
   "source": [
    "import time\n",
    "for i in range(100000):\n",
    "    print(i)\n",
    "    time.sleep()\n",
    "    "
   ]
  },
  {
   "cell_type": "code",
   "execution_count": null,
   "id": "45ebc7af-3fc4-4451-b7b1-4648f3a34ff2",
   "metadata": {},
   "outputs": [],
   "source": []
  },
  {
   "cell_type": "code",
   "execution_count": null,
   "id": "1864f402-9b25-4ebd-ae2c-73dfe950d268",
   "metadata": {},
   "outputs": [],
   "source": []
  },
  {
   "cell_type": "code",
   "execution_count": 81,
   "id": "75378e8b-18d5-4e09-ad49-d5b34666b1d4",
   "metadata": {},
   "outputs": [],
   "source": [
    "torch.cuda.empty_cache()"
   ]
  },
  {
   "cell_type": "code",
   "execution_count": null,
   "id": "e78a4be3-f98e-4c67-b92f-c6726a88589c",
   "metadata": {},
   "outputs": [],
   "source": []
  },
  {
   "cell_type": "code",
   "execution_count": null,
   "id": "67df05e7-f309-413c-a052-d536db4dcd87",
   "metadata": {},
   "outputs": [],
   "source": []
  },
  {
   "cell_type": "code",
   "execution_count": 173,
   "id": "6e775dad-ff49-4ce4-be3f-1ea71c6174f5",
   "metadata": {},
   "outputs": [],
   "source": []
  },
  {
   "cell_type": "code",
   "execution_count": 174,
   "id": "d4806022-91d1-4725-a23d-ba884be374f9",
   "metadata": {},
   "outputs": [],
   "source": [
    "from albumentations import HorizontalFlip, Rotate, Rotate, RandomBrightness, RandomBrightnessContrast\n",
    "\n",
    "train_transform = A.Compose(\n",
    "    [\n",
    "        A.Resize(512, 512),\n",
    "        A.RandomBrightnessContrast(brightness_limit=0.3, contrast_limit=0.3, p=0.2,always_apply=False),\n",
    "        A.HorizontalFlip(p=0.3),\n",
    "        A.Rotate(limit=15, p=0.8,always_apply=False),\n",
    "        A.RandomBrightness(p=0.5,always_apply=False),\n",
    "        A.RandomSnow(brightness_coeff=1.5, always_apply=False, p=0.5),\n",
    "        A.RandomRain(p=0.5, always_apply=False),\n",
    "        A.RandomSunFlare(p=0.2, always_apply=False),\n",
    "\n",
    "        ToTensorV2(),\n",
    "    ]\n",
    ")\n"
   ]
  },
  {
   "cell_type": "code",
   "execution_count": 205,
   "id": "801dd1fb-1706-4e44-91fa-ca2a9e162f37",
   "metadata": {},
   "outputs": [
    {
     "name": "stdout",
     "output_type": "stream",
     "text": [
      "(720, 640)\n",
      "(3, 512, 512)\n",
      "(512, 512, 3)\n"
     ]
    },
    {
     "data": {
      "text/plain": [
       "<matplotlib.image.AxesImage at 0x7f1f6868af10>"
      ]
     },
     "execution_count": 205,
     "metadata": {},
     "output_type": "execute_result"
    },
    {
     "data": {
      "image/png": "[encoded data removed]",
      "text/plain": [
       "<Figure size 432x288 with 1 Axes>"
      ]
     },
     "metadata": {
      "needs_background": "light"
     },
     "output_type": "display_data"
    }
   ],
   "source": [
    "import matplotlib.pyplot as plt\n",
    "\n",
    "from PIL import Image\n",
    "train_x = sorted(glob(os.path.join(path,\"Train\",\"Images\",\"*.jpg\")))\n",
    "train_y = sorted(glob(os.path.join(path,\"Train\",\"Masks\",\"*.png\")))\n",
    "\n",
    "\n",
    "size =(720,640)\n",
    "i,m = RailData(train_x,train_y,size,transform=train_transform)[0]\n",
    "arr = (i.detach().numpy())\n",
    "print(arr.shape)\n",
    "arr = np.transpose(arr, (1, 2, 0))\n",
    "print(arr.shape)\n",
    "plt.imshow((arr))\n"
   ]
  },
  {
   "cell_type": "code",
   "execution_count": null,
   "id": "2d88de28-e9b7-41b2-bc8b-cf16811f5a9e",
   "metadata": {},
   "outputs": [],
   "source": []
  },
  {
   "cell_type": "code",
   "execution_count": 204,
   "id": "39a25889-d087-4548-912f-4d68852cba0f",
   "metadata": {},
   "outputs": [
    {
     "name": "stdout",
     "output_type": "stream",
     "text": [
      "(720, 640)\n"
     ]
    },
    {
     "data": {
      "text/plain": [
       "(tensor([[[138, 138, 138,  ..., 150, 150, 149],\n",
       "          [138, 138, 138,  ..., 149, 149, 149],\n",
       "          [138, 138, 138,  ..., 149, 149, 149],\n",
       "          ...,\n",
       "          [ 23,  23,  21,  ...,  73,  72,  73],\n",
       "          [ 22,  22,  21,  ...,  71,  70,  70],\n",
       "          [ 23,  22,  20,  ...,  70,  71,  69]],\n",
       " \n",
       "         [[135, 135, 135,  ..., 147, 147, 147],\n",
       "          [135, 135, 135,  ..., 147, 147, 147],\n",
       "          [135, 135, 135,  ..., 147, 147, 147],\n",
       "          ...,\n",
       "          [ 25,  25,  23,  ...,  93,  94,  93],\n",
       "          [ 25,  24,  23,  ...,  91,  90,  90],\n",
       "          [ 25,  24,  23,  ...,  90,  91,  88]],\n",
       " \n",
       "         [[140, 140, 140,  ..., 147, 147, 147],\n",
       "          [140, 140, 140,  ..., 147, 147, 147],\n",
       "          [140, 140, 140,  ..., 147, 147, 147],\n",
       "          ...,\n",
       "          [ 22,  22,  20,  ..., 105, 105, 105],\n",
       "          [ 22,  21,  20,  ..., 103, 102, 102],\n",
       "          [ 22,  21,  20,  ..., 102, 102, 100]]], dtype=torch.uint8),\n",
       " tensor([[0, 0, 0,  ..., 0, 0, 0],\n",
       "         [0, 0, 0,  ..., 0, 0, 0],\n",
       "         [0, 0, 0,  ..., 0, 0, 0],\n",
       "         ...,\n",
       "         [0, 0, 0,  ..., 0, 0, 0],\n",
       "         [0, 0, 0,  ..., 0, 0, 0],\n",
       "         [0, 0, 0,  ..., 0, 0, 0]], dtype=torch.uint8))"
      ]
     },
     "execution_count": 204,
     "metadata": {},
     "output_type": "execute_result"
    }
   ],
   "source": []
  },
  {
   "cell_type": "code",
   "execution_count": null,
   "id": "757b5ab9-0f7c-4870-a745-69a7dcfcc8c7",
   "metadata": {},
   "outputs": [],
   "source": []
  }
 ],
 "metadata": {
  "kernelspec": {
   "display_name": "Environment (conda_pytorch_latest_p37)",
   "language": "python",
   "name": "conda_pytorch_latest_p37"
  },
  "language_info": {
   "codemirror_mode": {
    "name": "ipython",
    "version": 3
   },
   "file_extension": ".py",
   "mimetype": "text/x-python",
   "name": "python",
   "nbconvert_exporter": "python",
   "pygments_lexer": "ipython3",
   "version": "3.7.10"
  }
 },
 "nbformat": 4,
 "nbformat_minor": 5
}
