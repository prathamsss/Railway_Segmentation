{
 "cells": [
  {
   "cell_type": "code",
   "execution_count": 62,
   "id": "e02569c5-10af-4b40-b818-89aa30d95cc2",
   "metadata": {},
   "outputs": [],
   "source": [
    "from pycococreatortools import pycococreatortools\n",
    "import datetime\n",
    "import json\n",
    "import os\n",
    "import re\n",
    "import fnmatch\n",
    "from PIL import Image\n",
    "import numpy as np\n",
    "\n",
    "\n",
    "class Utils(object):\n",
    "\n",
    "    def __init__(self, ROOT_DIR):\n",
    "        ''' \n",
    "        ROOT_DIR: Directory Containing Imgs and Masks\n",
    "        This Class helps to convert Annotations to COCO Formate.\n",
    "        So, All required operations are been covered in this class.\n",
    "        \n",
    "        NOTE: Under ROOT_DIR there should folder named \"Images\"\n",
    "        and \"Masks\" containing images and masks respectively.\n",
    "        '''\n",
    "\n",
    "        self.ROOT_DIR = ROOT_DIR\n",
    "        self.IMAGE_DIR = os.path.join(self.ROOT_DIR, \"Images\")\n",
    "        self.ANNOTATION_DIR = os.path.join(self.ROOT_DIR, \"Masks\")\n",
    "\n",
    "        self.INFO = {\n",
    "            \"description\": \"Example Dataset\",\n",
    "            \"url\": \"https://github.com/waspinator/pycococreator\",\n",
    "            \"version\": \"0.1.0\",\n",
    "            \"year\": 2018,\n",
    "            \"contributor\": \"waspinator\",\n",
    "            \"date_created\": datetime.datetime.utcnow().isoformat(' ')\n",
    "        }\n",
    "\n",
    "        self.LICENSES = [\n",
    "            {\n",
    "                \"id\": 1,\n",
    "                \"name\": \"Attribution-NonCommercial-ShareAlike License\",\n",
    "                \"url\": \"http://creativecommons.org/licenses/by-nc-sa/2.0/\"\n",
    "            }\n",
    "        ]\n",
    "\n",
    "        self.CATEGORIES = [\n",
    "            {\n",
    "                'id': 1,\n",
    "                'name': 'Rail_road',\n",
    "                'supercategory': 'shape',\n",
    "            }\n",
    "        ]\n",
    "\n",
    "    def check_non_img_files(self, directory_path):\n",
    "        file_types = ['.jpg', '.png', '.jpeg']\n",
    "        for f in os.listdir(directory_path):\n",
    "            if os.path.splitext(f)[1] not in file_types:\n",
    "                return f\n",
    "\n",
    "    def filter_for_jpeg(self, root, files):\n",
    "        file_types = ['*.jpeg', '*.jpg']\n",
    "        file_types = r'|'.join([fnmatch.translate(x) for x in file_types])\n",
    "        files = [os.path.join(root, f) for f in files]\n",
    "        files = [f for f in files if re.match(file_types, f)]\n",
    "\n",
    "        return files\n",
    "\n",
    "    def filter_for_annotations(self, root, files, image_filename):\n",
    "        file_types = ['*.png']\n",
    "        file_types = r'|'.join([fnmatch.translate(x) for x in file_types])\n",
    "        basename_no_extension = os.path.splitext(os.path.basename(image_filename))[0]\n",
    "        file_name_prefix = basename_no_extension + '.*'\n",
    "        files = [os.path.join(root, f) for f in files]\n",
    "        files = [f for f in files if re.match(file_types, f)]\n",
    "        files = [f for f in files if re.match(file_name_prefix, os.path.splitext(os.path.basename(f))[0])]\n",
    "\n",
    "        return files\n",
    "\n",
    "    def add_class_name_to_files_names(self):\n",
    "\n",
    "        files = os.listdir(self.ANNOTATION_DIR)\n",
    "        for index, file in enumerate(files):\n",
    "            if '_Rail_road' in file:\n",
    "                pass\n",
    "\n",
    "            else:\n",
    "                os.rename(os.path.join(self.ANNOTATION_DIR, file),\n",
    "                          os.path.join(self.ANNOTATION_DIR, file.split('.')[0] + '_Rail_road' + '.png'))\n",
    "\n",
    "            if (os.path.isdir(os.path.join(self.ANNOTATION_DIR, file))) == True:\n",
    "                os.rmdir(os.path.join(self.ANNOTATION_DIR, file))\n",
    "\n",
    "    def export_to_COCO(self, dataset_type='train'):\n",
    "\n",
    "        coco_output = {\n",
    "            \"info\": self.INFO,\n",
    "            \"licenses\": self.LICENSES,\n",
    "            \"categories\": self.CATEGORIES,\n",
    "            \"images\": [],\n",
    "            \"annotations\": []\n",
    "        }\n",
    "\n",
    "        image_id = 1\n",
    "        segmentation_id = 1\n",
    "\n",
    "        # filter for jpeg images\n",
    "        for root, _, files in os.walk(self.IMAGE_DIR):\n",
    "            image_files = self.filter_for_jpeg(root, files)\n",
    "\n",
    "            # go through each image\n",
    "            for image_filename in image_files:\n",
    "                image = Image.open(image_filename)\n",
    "                image_info = pycococreatortools.create_image_info(\n",
    "                    image_id, os.path.basename(image_filename), image.size)\n",
    "                coco_output[\"images\"].append(image_info)\n",
    "\n",
    "                # filter for associated png annotations\n",
    "                for root, _, files in os.walk(self.ANNOTATION_DIR):\n",
    "                    annotation_files = self.filter_for_annotations(root, files, image_filename)\n",
    "\n",
    "                    # go through each associated annotation\n",
    "                    for annotation_filename in annotation_files:\n",
    "\n",
    "#                         print(annotation_filename)\n",
    "\n",
    "                        class_id = [x['id'] for x in self.CATEGORIES if x['name'] in annotation_filename][0]\n",
    "\n",
    "                        category_info = {'id': class_id, 'is_crowd': 'crowd' in image_filename}\n",
    "                        binary_mask = np.asarray(Image.open(annotation_filename)\n",
    "                                                 .convert('1')).astype(np.uint8)\n",
    "\n",
    "                        annotation_info = pycococreatortools.create_annotation_info(\n",
    "                            segmentation_id, image_id, category_info, binary_mask,\n",
    "                            image.size, tolerance=2)\n",
    "\n",
    "                        if annotation_info is not None:\n",
    "                            coco_output[\"annotations\"].append(annotation_info)\n",
    "\n",
    "                        segmentation_id = segmentation_id + 1\n",
    "\n",
    "                image_id = image_id + 1\n",
    "\n",
    "        with open(os.path.join(self.ROOT_DIR, dataset_type + '.json'), 'w') as output_json_file:\n",
    "            json.dump(coco_output, output_json_file)\n",
    "\n",
    "\n",
    "\n",
    "b = Utils('Data/Test_Real_Time')\n"
   ]
  },
  {
   "cell_type": "code",
   "execution_count": 25,
   "id": "8556e9d7-a969-4570-88c4-99a48055af57",
   "metadata": {},
   "outputs": [
    {
     "data": {
      "text/plain": [
       "(1400.0, 500.0, 100.0)"
      ]
     },
     "execution_count": 25,
     "metadata": {},
     "output_type": "execute_result"
    }
   ],
   "source": [
    "2000*0.7 , 2000*0.25, 2000*0.05"
   ]
  },
  {
   "cell_type": "code",
   "execution_count": 63,
   "id": "bf9aa862-8b50-4a8f-9d19-24737d279618",
   "metadata": {},
   "outputs": [],
   "source": [
    "b.check_non_img_files(b.ANNOTATION_DIR)\n",
    "b.check_non_img_files(b.IMAGE_DIR)"
   ]
  },
  {
   "cell_type": "code",
   "execution_count": 65,
   "id": "5a1f92e8-69bb-4051-bca3-655515038461",
   "metadata": {},
   "outputs": [
    {
     "name": "stdout",
     "output_type": "stream",
     "text": [
      "/bin/bash: switchml: line 1: syntax error: unexpected end of file\n",
      "/bin/bash: error importing function definition for `switchml'\n",
      "/bin/bash: _moduleraw: line 1: syntax error: unexpected end of file\n",
      "/bin/bash: error importing function definition for `_moduleraw'\n",
      "rm: cannot remove 'Data/Test_Real_Time/Images/.ipynb_checkpoints': No such file or directory\n"
     ]
    }
   ],
   "source": [
    "!rm Data/Test_Real_Time/Images/.ipynb_checkpoints"
   ]
  },
  {
   "cell_type": "code",
   "execution_count": null,
   "id": "86887b16-76ae-4ac3-ae07-0ed280380f9f",
   "metadata": {},
   "outputs": [],
   "source": [
    "# Do this operation to remove .ipynb_checkpoints\n",
    "!rm -r Rail_Segmentation/Masks/.ipynb_checkpoints"
   ]
  },
  {
   "cell_type": "code",
   "execution_count": 66,
   "id": "5e7b76e7-56bc-4a70-a3a2-b061ae7b6962",
   "metadata": {
    "scrolled": true,
    "tags": []
   },
   "outputs": [],
   "source": [
    "# b.add_class_name_to_files_names()\n",
    "# b.export_to_COCO(dataset_type = 'Test_Real_Time')"
   ]
  },
  {
   "cell_type": "code",
   "execution_count": 24,
   "id": "a1e359fb-81cf-4f38-b433-b8cbee723fef",
   "metadata": {
    "scrolled": true,
    "tags": []
   },
   "outputs": [
    {
     "name": "stdout",
     "output_type": "stream",
     "text": [
      "No of Images = > 1397\n",
      "No of Masks = > 1397\n",
      "All files are successfully Moved!\n"
     ]
    }
   ],
   "source": [
    "import shutil\n",
    "import os\n",
    "\n",
    "\n",
    "class Divide_dataset(object):\n",
    "    def __init__(self, main_dir,destination,thress):\n",
    "        ''' \n",
    "        Divide_dataset is for dividing dataset into Train, Test, Validation\n",
    "        main_dir : Directory containing all files Eg: /Images OR /Masks\n",
    "        destination: Directory path to move files.\n",
    "        '''\n",
    "        count = 0  \n",
    "        get_files = os.listdir(main_dir)\n",
    "        get_files.sort()\n",
    "        for i in get_files:\n",
    "            \n",
    "#             shutil.move(os.path.join(main_dir,i),destination)\n",
    "\n",
    "            if count == thress:\n",
    "                break\n",
    "            count = count + 1\n",
    "\n",
    "    def check(self,path_to_set):\n",
    "        ''' \n",
    "        Check whether divided set contains required no of imgs and masks accordingly.\n",
    "        path_to_set : Path of directory containing Images and Masks folder.\n",
    "        '''\n",
    "        print(\"No of Images = >\", len(os.listdir(path_to_set+'/Images')))\n",
    "        print(\"No of Masks = >\",len(os.listdir(path_to_set+'/Masks')))\n",
    "        \n",
    "       \n",
    "        masks_dir = os.path.join(path_to_set,'Masks')\n",
    "        imgs_dir    = os.path.join(path_to_set+'/Images')\n",
    "\n",
    "        mask = [i.split('.')[0] for i in os.listdir(masks_dir)]\n",
    "        mask = [j.split('_')[0] for j in mask]\n",
    "\n",
    "        imgs =[i.split('.')[0] for i in os.listdir(imgs_dir)]\n",
    "\n",
    "        if not list(set(imgs).difference(mask)):\n",
    "            print(\"All files are successfully Moved!\")\n",
    "\n",
    " \n",
    "d= Divide_dataset(\"Data/Train/Images\", \"Data/Images\",100)\n",
    "d.check(\"Data/Train\")"
   ]
  }
 ],
 "metadata": {
  "kernelspec": {
   "display_name": "Environment (conda_pytorch_p37)",
   "language": "python",
   "name": "conda_pytorch_p37"
  },
  "language_info": {
   "codemirror_mode": {
    "name": "ipython",
    "version": 3
   },
   "file_extension": ".py",
   "mimetype": "text/x-python",
   "name": "python",
   "nbconvert_exporter": "python",
   "pygments_lexer": "ipython3",
   "version": "3.7.10"
  }
 },
 "nbformat": 4,
 "nbformat_minor": 5
}
